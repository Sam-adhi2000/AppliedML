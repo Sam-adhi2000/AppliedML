{
  "nbformat": 4,
  "nbformat_minor": 0,
  "metadata": {
    "colab": {
      "provenance": [],
      "gpuType": "T4"
    },
    "kernelspec": {
      "name": "python3",
      "display_name": "Python 3"
    },
    "language_info": {
      "name": "python"
    },
    "accelerator": "GPU"
  },
  "cells": [
    {
      "cell_type": "code",
      "execution_count": 1,
      "metadata": {
        "id": "yGPbMJTQjSlX"
      },
      "outputs": [],
      "source": [
        "import os\n",
        "import numpy as np\n",
        "import matplotlib.pyplot as plt\n",
        "from tensorflow.keras.preprocessing.image import ImageDataGenerator\n",
        "from tensorflow.keras.applications import VGG19\n",
        "from tensorflow.keras.layers import Dense, Dropout, Flatten\n",
        "from tensorflow.keras.models import Model\n",
        "from sklearn.metrics import classification_report\n",
        "import cv2\n"
      ]
    },
    {
      "cell_type": "code",
      "source": [
        "from google.colab import files\n",
        "\n",
        "uploaded = files.upload()\n"
      ],
      "metadata": {
        "colab": {
          "base_uri": "https://localhost:8080/",
          "height": 108
        },
        "id": "W346MVmUGVce",
        "outputId": "68bad95c-f32b-4a8b-d2d7-f86670c00c19"
      },
      "execution_count": 2,
      "outputs": [
        {
          "output_type": "display_data",
          "data": {
            "text/plain": [
              "<IPython.core.display.HTML object>"
            ],
            "text/html": [
              "\n",
              "     <input type=\"file\" id=\"files-be993a6c-3f0b-4ba5-91d8-8f6f9f9aa3c6\" name=\"files[]\" multiple disabled\n",
              "        style=\"border:none\" />\n",
              "     <output id=\"result-be993a6c-3f0b-4ba5-91d8-8f6f9f9aa3c6\">\n",
              "      Upload widget is only available when the cell has been executed in the\n",
              "      current browser session. Please rerun this cell to enable.\n",
              "      </output>\n",
              "      <script>// Copyright 2017 Google LLC\n",
              "//\n",
              "// Licensed under the Apache License, Version 2.0 (the \"License\");\n",
              "// you may not use this file except in compliance with the License.\n",
              "// You may obtain a copy of the License at\n",
              "//\n",
              "//      http://www.apache.org/licenses/LICENSE-2.0\n",
              "//\n",
              "// Unless required by applicable law or agreed to in writing, software\n",
              "// distributed under the License is distributed on an \"AS IS\" BASIS,\n",
              "// WITHOUT WARRANTIES OR CONDITIONS OF ANY KIND, either express or implied.\n",
              "// See the License for the specific language governing permissions and\n",
              "// limitations under the License.\n",
              "\n",
              "/**\n",
              " * @fileoverview Helpers for google.colab Python module.\n",
              " */\n",
              "(function(scope) {\n",
              "function span(text, styleAttributes = {}) {\n",
              "  const element = document.createElement('span');\n",
              "  element.textContent = text;\n",
              "  for (const key of Object.keys(styleAttributes)) {\n",
              "    element.style[key] = styleAttributes[key];\n",
              "  }\n",
              "  return element;\n",
              "}\n",
              "\n",
              "// Max number of bytes which will be uploaded at a time.\n",
              "const MAX_PAYLOAD_SIZE = 100 * 1024;\n",
              "\n",
              "function _uploadFiles(inputId, outputId) {\n",
              "  const steps = uploadFilesStep(inputId, outputId);\n",
              "  const outputElement = document.getElementById(outputId);\n",
              "  // Cache steps on the outputElement to make it available for the next call\n",
              "  // to uploadFilesContinue from Python.\n",
              "  outputElement.steps = steps;\n",
              "\n",
              "  return _uploadFilesContinue(outputId);\n",
              "}\n",
              "\n",
              "// This is roughly an async generator (not supported in the browser yet),\n",
              "// where there are multiple asynchronous steps and the Python side is going\n",
              "// to poll for completion of each step.\n",
              "// This uses a Promise to block the python side on completion of each step,\n",
              "// then passes the result of the previous step as the input to the next step.\n",
              "function _uploadFilesContinue(outputId) {\n",
              "  const outputElement = document.getElementById(outputId);\n",
              "  const steps = outputElement.steps;\n",
              "\n",
              "  const next = steps.next(outputElement.lastPromiseValue);\n",
              "  return Promise.resolve(next.value.promise).then((value) => {\n",
              "    // Cache the last promise value to make it available to the next\n",
              "    // step of the generator.\n",
              "    outputElement.lastPromiseValue = value;\n",
              "    return next.value.response;\n",
              "  });\n",
              "}\n",
              "\n",
              "/**\n",
              " * Generator function which is called between each async step of the upload\n",
              " * process.\n",
              " * @param {string} inputId Element ID of the input file picker element.\n",
              " * @param {string} outputId Element ID of the output display.\n",
              " * @return {!Iterable<!Object>} Iterable of next steps.\n",
              " */\n",
              "function* uploadFilesStep(inputId, outputId) {\n",
              "  const inputElement = document.getElementById(inputId);\n",
              "  inputElement.disabled = false;\n",
              "\n",
              "  const outputElement = document.getElementById(outputId);\n",
              "  outputElement.innerHTML = '';\n",
              "\n",
              "  const pickedPromise = new Promise((resolve) => {\n",
              "    inputElement.addEventListener('change', (e) => {\n",
              "      resolve(e.target.files);\n",
              "    });\n",
              "  });\n",
              "\n",
              "  const cancel = document.createElement('button');\n",
              "  inputElement.parentElement.appendChild(cancel);\n",
              "  cancel.textContent = 'Cancel upload';\n",
              "  const cancelPromise = new Promise((resolve) => {\n",
              "    cancel.onclick = () => {\n",
              "      resolve(null);\n",
              "    };\n",
              "  });\n",
              "\n",
              "  // Wait for the user to pick the files.\n",
              "  const files = yield {\n",
              "    promise: Promise.race([pickedPromise, cancelPromise]),\n",
              "    response: {\n",
              "      action: 'starting',\n",
              "    }\n",
              "  };\n",
              "\n",
              "  cancel.remove();\n",
              "\n",
              "  // Disable the input element since further picks are not allowed.\n",
              "  inputElement.disabled = true;\n",
              "\n",
              "  if (!files) {\n",
              "    return {\n",
              "      response: {\n",
              "        action: 'complete',\n",
              "      }\n",
              "    };\n",
              "  }\n",
              "\n",
              "  for (const file of files) {\n",
              "    const li = document.createElement('li');\n",
              "    li.append(span(file.name, {fontWeight: 'bold'}));\n",
              "    li.append(span(\n",
              "        `(${file.type || 'n/a'}) - ${file.size} bytes, ` +\n",
              "        `last modified: ${\n",
              "            file.lastModifiedDate ? file.lastModifiedDate.toLocaleDateString() :\n",
              "                                    'n/a'} - `));\n",
              "    const percent = span('0% done');\n",
              "    li.appendChild(percent);\n",
              "\n",
              "    outputElement.appendChild(li);\n",
              "\n",
              "    const fileDataPromise = new Promise((resolve) => {\n",
              "      const reader = new FileReader();\n",
              "      reader.onload = (e) => {\n",
              "        resolve(e.target.result);\n",
              "      };\n",
              "      reader.readAsArrayBuffer(file);\n",
              "    });\n",
              "    // Wait for the data to be ready.\n",
              "    let fileData = yield {\n",
              "      promise: fileDataPromise,\n",
              "      response: {\n",
              "        action: 'continue',\n",
              "      }\n",
              "    };\n",
              "\n",
              "    // Use a chunked sending to avoid message size limits. See b/62115660.\n",
              "    let position = 0;\n",
              "    do {\n",
              "      const length = Math.min(fileData.byteLength - position, MAX_PAYLOAD_SIZE);\n",
              "      const chunk = new Uint8Array(fileData, position, length);\n",
              "      position += length;\n",
              "\n",
              "      const base64 = btoa(String.fromCharCode.apply(null, chunk));\n",
              "      yield {\n",
              "        response: {\n",
              "          action: 'append',\n",
              "          file: file.name,\n",
              "          data: base64,\n",
              "        },\n",
              "      };\n",
              "\n",
              "      let percentDone = fileData.byteLength === 0 ?\n",
              "          100 :\n",
              "          Math.round((position / fileData.byteLength) * 100);\n",
              "      percent.textContent = `${percentDone}% done`;\n",
              "\n",
              "    } while (position < fileData.byteLength);\n",
              "  }\n",
              "\n",
              "  // All done.\n",
              "  yield {\n",
              "    response: {\n",
              "      action: 'complete',\n",
              "    }\n",
              "  };\n",
              "}\n",
              "\n",
              "scope.google = scope.google || {};\n",
              "scope.google.colab = scope.google.colab || {};\n",
              "scope.google.colab._files = {\n",
              "  _uploadFiles,\n",
              "  _uploadFilesContinue,\n",
              "};\n",
              "})(self);\n",
              "</script> "
            ]
          },
          "metadata": {}
        },
        {
          "output_type": "stream",
          "name": "stdout",
          "text": [
            "Saving chickens.zip to chickens.zip\n",
            "Saving ducks.zip to ducks.zip\n"
          ]
        }
      ]
    },
    {
      "cell_type": "code",
      "source": [
        "import zipfile\n",
        "import io\n",
        "\n",
        "with zipfile.ZipFile(io.BytesIO(uploaded['chickens.zip']), 'r') as zip_ref:\n",
        "    zip_ref.extractall()\n",
        "\n",
        "with zipfile.ZipFile(io.BytesIO(uploaded['ducks.zip']), 'r') as zip_ref:\n",
        "    zip_ref.extractall()\n"
      ],
      "metadata": {
        "id": "NXssx8_-GPax"
      },
      "execution_count": 3,
      "outputs": []
    },
    {
      "cell_type": "code",
      "source": [
        "import os\n",
        "import random\n",
        "import shutil\n",
        "\n",
        "# Function to split images and copy them to train, validation, and test directories\n",
        "def split_images(original_dir, train_ratio, val_ratio, train_dir, val_dir, test_dir):\n",
        "    # Create train, validation, and test directories if they don't exist\n",
        "    os.makedirs(train_dir, exist_ok=True)\n",
        "    os.makedirs(val_dir, exist_ok=True)\n",
        "    os.makedirs(test_dir, exist_ok=True)\n",
        "\n",
        "    # Get the list of image filenames\n",
        "    filenames = os.listdir(original_dir)\n",
        "    # Shuffle the filenames randomly\n",
        "    random.shuffle(filenames)\n",
        "    # Calculate the number of images for the train set\n",
        "    num_train = int(len(filenames) * train_ratio)\n",
        "    # Calculate the number of images for the validation set\n",
        "    num_val = int(len(filenames) * val_ratio)\n",
        "    # Iterate over the filenames and copy the images to train, validation, or test directories\n",
        "    for i, filename in enumerate(filenames):\n",
        "        # Determine the destination directory\n",
        "        if i < num_train:\n",
        "            dest_dir = train_dir\n",
        "        elif i < num_train + num_val:\n",
        "            dest_dir = val_dir\n",
        "        else:\n",
        "            dest_dir = test_dir\n",
        "        # Copy the image to the destination directory\n",
        "        shutil.copy(os.path.join(original_dir, filename), os.path.join(dest_dir, filename))\n",
        "\n",
        "# Set the paths to the original duck and chicken image directories\n",
        "duck_dir = '/content/ducks/'\n",
        "chicken_dir = '/content/chickens/'\n",
        "\n",
        "# Set the paths to the new train, validation, and test directories\n",
        "train_dir = '/content/train/'\n",
        "val_dir = '/content/val/'\n",
        "test_dir = '/content/test/'\n",
        "\n",
        "# Split duck images\n",
        "split_images(duck_dir, train_ratio=0.6, val_ratio=0.2, train_dir=train_dir+'ducks', val_dir=val_dir+'ducks', test_dir=test_dir+'ducks')\n",
        "\n",
        "# Split chicken images\n",
        "split_images(chicken_dir, train_ratio=0.6, val_ratio=0.2, train_dir=train_dir+'chickens', val_dir=val_dir+'chickens', test_dir=test_dir+'chickens')\n",
        "\n",
        "print(\"Images split and copied successfully!\")\n"
      ],
      "metadata": {
        "colab": {
          "base_uri": "https://localhost:8080/"
        },
        "id": "oU0g2BDDJpzv",
        "outputId": "dfdaec58-1742-4e56-a261-f872437f598e"
      },
      "execution_count": 4,
      "outputs": [
        {
          "output_type": "stream",
          "name": "stdout",
          "text": [
            "Images split and copied successfully!\n"
          ]
        }
      ]
    },
    {
      "cell_type": "code",
      "source": [
        "x_train=[]\n",
        "train_path='/content/train'\n",
        "test_path='/content/test'\n",
        "val_path='/content/val'\n",
        "for folder in os.listdir(train_path):\n",
        "\n",
        "    sub_path=train_path+\"/\"+folder\n",
        "\n",
        "    for img in os.listdir(sub_path):\n",
        "\n",
        "        image_path=sub_path+\"/\"+img\n",
        "\n",
        "        img_arr=cv2.imread(image_path)\n",
        "\n",
        "        img_arr=cv2.resize(img_arr,(224,224))\n",
        "\n",
        "        x_train.append(img_arr)\n",
        "\n",
        "x_test=[]\n",
        "\n",
        "for folder in os.listdir(test_path):\n",
        "\n",
        "    sub_path=test_path+\"/\"+folder\n",
        "\n",
        "    for img in os.listdir(sub_path):\n",
        "\n",
        "        image_path=sub_path+\"/\"+img\n",
        "\n",
        "        img_arr=cv2.imread(image_path)\n",
        "\n",
        "        img_arr=cv2.resize(img_arr,(224,224))\n",
        "\n",
        "        x_test.append(img_arr)\n",
        "\n",
        "x_val=[]\n",
        "\n",
        "for folder in os.listdir(val_path):\n",
        "\n",
        "    sub_path=val_path+\"/\"+folder\n",
        "\n",
        "    for img in os.listdir(sub_path):\n",
        "\n",
        "        image_path=sub_path+\"/\"+img\n",
        "\n",
        "        img_arr=cv2.imread(image_path)\n",
        "\n",
        "        img_arr=cv2.resize(img_arr,(224,224))\n",
        "\n",
        "        x_val.append(img_arr)"
      ],
      "metadata": {
        "id": "qCP_GCQIfXCx"
      },
      "execution_count": 5,
      "outputs": []
    },
    {
      "cell_type": "code",
      "source": [
        "train_x=np.array(x_train)\n",
        "test_x=np.array(x_test)\n",
        "val_x=np.array(x_val)\n",
        "train_x=train_x/255.0\n",
        "test_x=test_x/255.0\n",
        "val_x=val_x/255.0"
      ],
      "metadata": {
        "id": "hMhGsdnWgBf7"
      },
      "execution_count": 6,
      "outputs": []
    },
    {
      "cell_type": "code",
      "source": [
        "# Set up data generators\n",
        "train_datagen = ImageDataGenerator(rescale=1./255)\n",
        "\n",
        "val_datagen = ImageDataGenerator(rescale=1./255)\n",
        "test_datagen = ImageDataGenerator(rescale=1./255)\n",
        "\n",
        "# Generate batches of training, validation, and test data\n",
        "train_generator = train_datagen.flow_from_directory(\n",
        "    train_dir,\n",
        "    target_size=(224, 224),\n",
        "    batch_size=32,\n",
        "    class_mode='binary'\n",
        ")\n",
        "val_generator = val_datagen.flow_from_directory(\n",
        "    val_dir,\n",
        "    target_size=(224, 224),\n",
        "    batch_size=32,\n",
        "    class_mode='binary'\n",
        ")\n",
        "test_generator = test_datagen.flow_from_directory(\n",
        "    test_dir,\n",
        "    target_size=(224, 224),\n",
        "    batch_size=32,\n",
        "    class_mode='binary'\n",
        ")"
      ],
      "metadata": {
        "id": "Ie13gtoIC5eI",
        "colab": {
          "base_uri": "https://localhost:8080/"
        },
        "outputId": "eb0b1136-9caa-4a94-dad0-8dcc53759425"
      },
      "execution_count": 7,
      "outputs": [
        {
          "output_type": "stream",
          "name": "stdout",
          "text": [
            "Found 120 images belonging to 2 classes.\n",
            "Found 40 images belonging to 2 classes.\n",
            "Found 40 images belonging to 2 classes.\n"
          ]
        }
      ]
    },
    {
      "cell_type": "code",
      "source": [
        "# Load pre-trained VGG16 model without the top classification layer\n",
        "base_model = VGG19(weights='imagenet', include_top=False, input_shape=(224, 224, 3))\n",
        "\n",
        "# Freeze all layers in the base model\n",
        "for layer in base_model.layers:\n",
        "    layer.trainable = False"
      ],
      "metadata": {
        "colab": {
          "base_uri": "https://localhost:8080/"
        },
        "id": "-NM7BCPDOm6v",
        "outputId": "390f1bab-373d-4c1d-e17b-9bb10889b9e9"
      },
      "execution_count": 8,
      "outputs": [
        {
          "output_type": "stream",
          "name": "stdout",
          "text": [
            "Downloading data from https://storage.googleapis.com/tensorflow/keras-applications/vgg19/vgg19_weights_tf_dim_ordering_tf_kernels_notop.h5\n",
            "80134624/80134624 [==============================] - 1s 0us/step\n"
          ]
        }
      ]
    },
    {
      "cell_type": "code",
      "source": [
        "# Add custom classification head on top of the base model\n",
        "x = Flatten()(base_model.output)\n",
        "# x = Dense(256, activation='relu')(x)\n",
        "# x = Dropout(0.5)(x)\n",
        "output = Dense(1, activation='sigmoid')(x)  # Make sure the output matches the number of classes\n",
        "\n",
        "# Create final model\n",
        "model = Model(base_model.input, output)\n"
      ],
      "metadata": {
        "id": "M5X6rnKMOfGp"
      },
      "execution_count": 10,
      "outputs": []
    },
    {
      "cell_type": "code",
      "source": [
        "model.compile(optimizer='adam', loss='binary_crossentropy', metrics=['accuracy'])\n"
      ],
      "metadata": {
        "id": "_EJNRn59OqeH"
      },
      "execution_count": 11,
      "outputs": []
    },
    {
      "cell_type": "code",
      "source": [
        "from tensorflow.keras.callbacks import EarlyStopping\n",
        "early_stop=EarlyStopping(monitor='val_loss',mode='min',verbose=1,patience=5)"
      ],
      "metadata": {
        "id": "rWkmUdWVhGf5"
      },
      "execution_count": 12,
      "outputs": []
    },
    {
      "cell_type": "code",
      "source": [
        "# Train the model\n",
        "history = model.fit(\n",
        "    train_generator,\n",
        "    steps_per_epoch=len(train_generator),\n",
        "    epochs=10,\n",
        "    callbacks=[early_stop],\n",
        "    validation_data=val_generator,\n",
        "    validation_steps=len(val_generator)\n",
        ")\n"
      ],
      "metadata": {
        "colab": {
          "base_uri": "https://localhost:8080/"
        },
        "id": "FFC0nhkcOtRv",
        "outputId": "6d39a357-8c61-4d57-9b81-b60e486a234d"
      },
      "execution_count": 13,
      "outputs": [
        {
          "output_type": "stream",
          "name": "stdout",
          "text": [
            "Epoch 1/10\n",
            "4/4 [==============================] - 120s 33s/step - loss: 0.8775 - accuracy: 0.5250 - val_loss: 0.5901 - val_accuracy: 0.6750\n",
            "Epoch 2/10\n",
            "4/4 [==============================] - 128s 33s/step - loss: 0.6149 - accuracy: 0.6167 - val_loss: 0.5629 - val_accuracy: 0.7000\n",
            "Epoch 3/10\n",
            "4/4 [==============================] - 119s 32s/step - loss: 0.4772 - accuracy: 0.7500 - val_loss: 0.5420 - val_accuracy: 0.8000\n",
            "Epoch 4/10\n",
            "4/4 [==============================] - 103s 29s/step - loss: 0.4169 - accuracy: 0.7917 - val_loss: 0.6287 - val_accuracy: 0.6750\n",
            "Epoch 5/10\n",
            "4/4 [==============================] - 118s 34s/step - loss: 0.3152 - accuracy: 0.8667 - val_loss: 0.5664 - val_accuracy: 0.7250\n",
            "Epoch 6/10\n",
            "4/4 [==============================] - 121s 35s/step - loss: 0.2586 - accuracy: 0.8917 - val_loss: 0.5842 - val_accuracy: 0.7000\n",
            "Epoch 7/10\n",
            "4/4 [==============================] - 118s 32s/step - loss: 0.2419 - accuracy: 0.9250 - val_loss: 0.5380 - val_accuracy: 0.7250\n",
            "Epoch 8/10\n",
            "4/4 [==============================] - 104s 27s/step - loss: 0.1783 - accuracy: 0.9750 - val_loss: 0.5143 - val_accuracy: 0.7750\n",
            "Epoch 9/10\n",
            "4/4 [==============================] - 119s 34s/step - loss: 0.1684 - accuracy: 0.9583 - val_loss: 0.5272 - val_accuracy: 0.7250\n",
            "Epoch 10/10\n",
            "4/4 [==============================] - 119s 33s/step - loss: 0.1480 - accuracy: 0.9750 - val_loss: 0.5750 - val_accuracy: 0.7250\n"
          ]
        }
      ]
    },
    {
      "cell_type": "code",
      "source": [
        "# Predict on the validation set\n",
        "val_images, val_labels = next(val_generator)\n",
        "predictions = model.predict(val_images)\n",
        "predicted_classes = [1 if prob > 0.5 else 0 for prob in predictions]\n",
        "\n",
        "# Generate classification report\n",
        "print(classification_report(val_labels, predicted_classes, target_names=['Chicken', 'Duck']))\n"
      ],
      "metadata": {
        "colab": {
          "base_uri": "https://localhost:8080/"
        },
        "id": "U23XWNK8npJi",
        "outputId": "c57a2ebf-690d-496b-a709-dbc0f463fab2"
      },
      "execution_count": 24,
      "outputs": [
        {
          "output_type": "stream",
          "name": "stdout",
          "text": [
            "1/1 [==============================] - 27s 27s/step\n",
            "              precision    recall  f1-score   support\n",
            "\n",
            "     Chicken       0.91      0.56      0.69        18\n",
            "        Duck       0.62      0.93      0.74        14\n",
            "\n",
            "    accuracy                           0.72        32\n",
            "   macro avg       0.76      0.74      0.72        32\n",
            "weighted avg       0.78      0.72      0.71        32\n",
            "\n"
          ]
        }
      ]
    }
  ]
}