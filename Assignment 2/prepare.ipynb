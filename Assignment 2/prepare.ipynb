{
 "cells": [
  {
   "cell_type": "code",
   "execution_count": null,
   "metadata": {},
   "outputs": [],
   "source": [
    "%pip install dvc"
   ]
  },
  {
   "cell_type": "code",
   "execution_count": null,
   "metadata": {},
   "outputs": [],
   "source": [
    "%pip install dvc[gdrive]"
   ]
  },
  {
   "cell_type": "code",
   "execution_count": 1,
   "metadata": {},
   "outputs": [
    {
     "name": "stdout",
     "output_type": "stream",
     "text": [
      "C:\\Users\\Samriddha\\OneDrive\\Desktop\\msc@cmi\\cmi sem 4\\Applied ML\\AppliedML\\Assignment 2\n"
     ]
    }
   ],
   "source": [
    "%cd \"C:\\Users\\Samriddha\\OneDrive\\Desktop\\msc@cmi\\cmi sem 4\\Applied ML\\AppliedML\\Assignment 2\""
   ]
  },
  {
   "cell_type": "code",
   "execution_count": 2,
   "metadata": {},
   "outputs": [
    {
     "name": "stdout",
     "output_type": "stream",
     "text": [
      "Initialized DVC repository.\n",
      "\n",
      "You can now commit the changes to git.\n",
      "\n",
      "+---------------------------------------------------------------------+\n",
      "|                                                                     |\n",
      "|        DVC has enabled anonymous aggregate usage analytics.         |\n",
      "|     Read the analytics documentation (and how to opt-out) here:     |\n",
      "|             <https://dvc.org/doc/user-guide/analytics>              |\n",
      "|                                                                     |\n",
      "+---------------------------------------------------------------------+\n",
      "\n",
      "What's next?\n",
      "------------\n",
      "- Check out the documentation: <https://dvc.org/doc>\n",
      "- Get help and share ideas: <https://dvc.org/chat>\n",
      "- Star us on GitHub: <https://github.com/iterative/dvc>\n"
     ]
    }
   ],
   "source": [
    "!dvc init --subdir "
   ]
  },
  {
   "cell_type": "code",
   "execution_count": 3,
   "metadata": {},
   "outputs": [
    {
     "name": "stdout",
     "output_type": "stream",
     "text": [
      "Setting 'myremote' as a default remote.\n"
     ]
    }
   ],
   "source": [
    "# Set up Google Drive remote\n",
    "!dvc remote add -d myremote gdrive://10EDWx1hj2wrZc7WHLZZzY15zsOifHpng"
   ]
  },
  {
   "cell_type": "code",
   "execution_count": 4,
   "metadata": {},
   "outputs": [],
   "source": [
    "!git config user.email \"samriddhaadhikary2000@gmail.com\"\n",
    "!git config user.name \"samriddhaadhikary2000\""
   ]
  },
  {
   "cell_type": "code",
   "execution_count": 5,
   "metadata": {},
   "outputs": [],
   "source": [
    "!git add .dvc/config"
   ]
  },
  {
   "cell_type": "code",
   "execution_count": 5,
   "metadata": {},
   "outputs": [],
   "source": [
    "# Import necessary libraries\n",
    "import pandas as pd\n",
    "from sklearn.model_selection import train_test_split"
   ]
  },
  {
   "cell_type": "code",
   "execution_count": 6,
   "metadata": {},
   "outputs": [],
   "source": [
    "# Load raw data\n",
    "raw_data = pd.read_csv(r\"C:\\Users\\Samriddha\\OneDrive\\Desktop\\msc@cmi\\cmi sem 4\\Applied ML\\AppliedML\\Assignment 2\\raw_data.csv\")"
   ]
  },
  {
   "cell_type": "code",
   "execution_count": 7,
   "metadata": {},
   "outputs": [
    {
     "data": {
      "text/html": [
       "<div>\n",
       "<style scoped>\n",
       "    .dataframe tbody tr th:only-of-type {\n",
       "        vertical-align: middle;\n",
       "    }\n",
       "\n",
       "    .dataframe tbody tr th {\n",
       "        vertical-align: top;\n",
       "    }\n",
       "\n",
       "    .dataframe thead th {\n",
       "        text-align: right;\n",
       "    }\n",
       "</style>\n",
       "<table border=\"1\" class=\"dataframe\">\n",
       "  <thead>\n",
       "    <tr style=\"text-align: right;\">\n",
       "      <th></th>\n",
       "      <th>text</th>\n",
       "      <th>spam</th>\n",
       "    </tr>\n",
       "  </thead>\n",
       "  <tbody>\n",
       "    <tr>\n",
       "      <th>0</th>\n",
       "      <td>Subject: naturally irresistible your corporate...</td>\n",
       "      <td>1</td>\n",
       "    </tr>\n",
       "    <tr>\n",
       "      <th>1</th>\n",
       "      <td>Subject: the stock trading gunslinger  fanny i...</td>\n",
       "      <td>1</td>\n",
       "    </tr>\n",
       "    <tr>\n",
       "      <th>2</th>\n",
       "      <td>Subject: unbelievable new homes made easy  im ...</td>\n",
       "      <td>1</td>\n",
       "    </tr>\n",
       "    <tr>\n",
       "      <th>3</th>\n",
       "      <td>Subject: 4 color printing special  request add...</td>\n",
       "      <td>1</td>\n",
       "    </tr>\n",
       "    <tr>\n",
       "      <th>4</th>\n",
       "      <td>Subject: do not have money , get software cds ...</td>\n",
       "      <td>1</td>\n",
       "    </tr>\n",
       "    <tr>\n",
       "      <th>...</th>\n",
       "      <td>...</td>\n",
       "      <td>...</td>\n",
       "    </tr>\n",
       "    <tr>\n",
       "      <th>5723</th>\n",
       "      <td>Subject: re : research and development charges...</td>\n",
       "      <td>0</td>\n",
       "    </tr>\n",
       "    <tr>\n",
       "      <th>5724</th>\n",
       "      <td>Subject: re : receipts from visit  jim ,  than...</td>\n",
       "      <td>0</td>\n",
       "    </tr>\n",
       "    <tr>\n",
       "      <th>5725</th>\n",
       "      <td>Subject: re : enron case study update  wow ! a...</td>\n",
       "      <td>0</td>\n",
       "    </tr>\n",
       "    <tr>\n",
       "      <th>5726</th>\n",
       "      <td>Subject: re : interest  david ,  please , call...</td>\n",
       "      <td>0</td>\n",
       "    </tr>\n",
       "    <tr>\n",
       "      <th>5727</th>\n",
       "      <td>Subject: news : aurora 5 . 2 update  aurora ve...</td>\n",
       "      <td>0</td>\n",
       "    </tr>\n",
       "  </tbody>\n",
       "</table>\n",
       "<p>5728 rows × 2 columns</p>\n",
       "</div>"
      ],
      "text/plain": [
       "                                                   text  spam\n",
       "0     Subject: naturally irresistible your corporate...     1\n",
       "1     Subject: the stock trading gunslinger  fanny i...     1\n",
       "2     Subject: unbelievable new homes made easy  im ...     1\n",
       "3     Subject: 4 color printing special  request add...     1\n",
       "4     Subject: do not have money , get software cds ...     1\n",
       "...                                                 ...   ...\n",
       "5723  Subject: re : research and development charges...     0\n",
       "5724  Subject: re : receipts from visit  jim ,  than...     0\n",
       "5725  Subject: re : enron case study update  wow ! a...     0\n",
       "5726  Subject: re : interest  david ,  please , call...     0\n",
       "5727  Subject: news : aurora 5 . 2 update  aurora ve...     0\n",
       "\n",
       "[5728 rows x 2 columns]"
      ]
     },
     "execution_count": 7,
     "metadata": {},
     "output_type": "execute_result"
    }
   ],
   "source": [
    "raw_data"
   ]
  },
  {
   "cell_type": "code",
   "execution_count": 8,
   "metadata": {},
   "outputs": [],
   "source": [
    "# Split data\n",
    "seed = 42  \n",
    "train_data, test_data = train_test_split(raw_data, test_size=0.2, random_state=seed)\n",
    "test_data, validation_data = train_test_split(test_data, test_size=0.5, random_state=seed)"
   ]
  },
  {
   "cell_type": "code",
   "execution_count": 9,
   "metadata": {},
   "outputs": [],
   "source": [
    "# Save split data\n",
    "train_data.to_csv(\"train.csv\", index=False)\n",
    "validation_data.to_csv(\"validation.csv\", index=False)\n",
    "test_data.to_csv(\"test.csv\", index=False)"
   ]
  },
  {
   "cell_type": "code",
   "execution_count": 10,
   "metadata": {},
   "outputs": [
    {
     "name": "stdout",
     "output_type": "stream",
     "text": [
      "\n",
      "To track the changes with git, run:\n",
      "\n",
      "\tgit add train.csv.dvc test.csv.dvc raw_data.csv.dvc .gitignore validation.csv.dvc\n",
      "\n",
      "To enable auto staging, run:\n",
      "\n",
      "\tdvc config core.autostage true\n"
     ]
    }
   ],
   "source": [
    "# Stage changes\n",
    "!dvc add train.csv validation.csv test.csv raw_data.csv"
   ]
  },
  {
   "cell_type": "code",
   "execution_count": 11,
   "metadata": {},
   "outputs": [],
   "source": [
    "!dvc config core.autostage true"
   ]
  },
  {
   "cell_type": "code",
   "execution_count": 12,
   "metadata": {},
   "outputs": [
    {
     "name": "stderr",
     "output_type": "stream",
     "text": [
      "warning: in the working copy of 'Assignment 2/prepare.ipynb', LF will be replaced by CRLF the next time Git touches it\n"
     ]
    },
    {
     "name": "stdout",
     "output_type": "stream",
     "text": [
      "[detached HEAD 8a393b6] Initial commit with data split version 1\n",
      " 1 file changed, 37 insertions(+), 44 deletions(-)\n"
     ]
    }
   ],
   "source": [
    "# Commit changes\n",
    "!git add .\n",
    "!git commit -m \"Initial commit with data split version 1\"\n",
    "!dvc commit"
   ]
  },
  {
   "cell_type": "code",
   "execution_count": 13,
   "metadata": {},
   "outputs": [],
   "source": [
    "!dvc remote modify myremote gdrive_user_credentials_file none\n"
   ]
  },
  {
   "cell_type": "code",
   "execution_count": 14,
   "metadata": {},
   "outputs": [
    {
     "name": "stdout",
     "output_type": "stream",
     "text": [
      "Your browser has been opened to visit:"
     ]
    },
    {
     "name": "stderr",
     "output_type": "stream",
     "text": [
      "c:\\users\\samriddha\\appdata\\local\\programs\\python\\python38\\lib\\site-packages\\oauth2client\\_helpers.py:255: UserWarning: Cannot access C:\\Users\\Samriddha\\OneDrive\\Desktop\\msc@cmi\\cmi sem 4\\Applied ML\\AppliedML\\Assignment 2\\none: No such file or directory\n",
      "  warnings.warn(_MISSING_FILE_MESSAGE.format(filename))\n"
     ]
    },
    {
     "name": "stdout",
     "output_type": "stream",
     "text": [
      "\n",
      "\n",
      "    https://accounts.google.com/o/oauth2/auth?client_id=710796635688-iivsgbgsb6uv1fap6635dhvuei09o66c.apps.googleusercontent.com&redirect_uri=http%3A%2F%2Flocalhost%3A8080%2F&scope=https%3A%2F%2Fwww.googleapis.com%2Fauth%2Fdrive+https%3A%2F%2Fwww.googleapis.com%2Fauth%2Fdrive.appdata&access_type=offline&response_type=code&approval_prompt=force\n",
      "\n",
      "Authentication successful.\n",
      "4 files pushed\n"
     ]
    }
   ],
   "source": [
    "!dvc push -r myremote"
   ]
  },
  {
   "cell_type": "code",
   "execution_count": 15,
   "metadata": {},
   "outputs": [],
   "source": [
    "# Update split with a different random seed\n",
    "seed_after = 2022\n",
    "train_data_after, test_data_after = train_test_split(raw_data, test_size=0.2, random_state=seed_after)\n",
    "test_data_after, validation_data_after = train_test_split(test_data_after, test_size=0.5, random_state=seed_after)\n"
   ]
  },
  {
   "cell_type": "code",
   "execution_count": 16,
   "metadata": {},
   "outputs": [],
   "source": [
    "# Save split data (version 2)\n",
    "train_data_after.to_csv(\"train.csv\", index=False)\n",
    "validation_data_after.to_csv(\"validation.csv\", index=False)\n",
    "test_data_after.to_csv(\"test.csv\", index=False)"
   ]
  },
  {
   "cell_type": "code",
   "execution_count": 18,
   "metadata": {},
   "outputs": [],
   "source": [
    "# Stage changes\n",
    "!dvc add train.csv validation.csv test.csv raw_data.csv"
   ]
  },
  {
   "cell_type": "code",
   "execution_count": 19,
   "metadata": {},
   "outputs": [
    {
     "name": "stdout",
     "output_type": "stream",
     "text": [
      "[detached HEAD c53506e] Update data split with a different random seed\n",
      " 5 files changed, 8 insertions(+), 6 deletions(-)\n",
      " create mode 100644 Assignment 2/none\n"
     ]
    }
   ],
   "source": [
    "# Commit changes\n",
    "!git add .\n",
    "!git commit -m \"Update data split with a different random seed\"\n",
    "!dvc commit"
   ]
  },
  {
   "cell_type": "code",
   "execution_count": 20,
   "metadata": {},
   "outputs": [
    {
     "name": "stdout",
     "output_type": "stream",
     "text": [
      "3 files pushed\n"
     ]
    }
   ],
   "source": [
    "# Push data to Google Drive\n",
    "!dvc push -r myremote"
   ]
  },
  {
   "cell_type": "code",
   "execution_count": 21,
   "metadata": {},
   "outputs": [
    {
     "name": "stdout",
     "output_type": "stream",
     "text": [
      "commit c53506e255f385f362fdb1ac934d85b23ee358fc\n",
      "Author: samriddhaadhikary2000 <samriddhaadhikary2000@gmail.com>\n",
      "Date:   Tue Feb 20 19:54:14 2024 +0530\n",
      "\n",
      "    Update data split with a different random seed\n",
      "\n",
      "commit 8a393b677b8b0829c6c0598368c3b006434e3883\n",
      "Author: samriddhaadhikary2000 <samriddhaadhikary2000@gmail.com>\n",
      "Date:   Tue Feb 20 19:50:15 2024 +0530\n",
      "\n",
      "    Initial commit with data split version 1\n",
      "\n",
      "commit 5b095e26cd1fad2a64ffb7ebe90aad101587cc2c\n",
      "Author: samriddhaadhikary2000 <samriddhaadhikary2000@gmail.com>\n",
      "Date:   Tue Feb 20 19:31:22 2024 +0530\n",
      "\n",
      "    Initial commit with data split version 1\n",
      "\n",
      "commit 5531c3aa766ac60f7fb97c4360412819262a1e6b\n",
      "Author: samriddhaadhikary2000 <samriddhaadhikary2000@gmail.com>\n",
      "Date:   Tue Feb 20 19:11:03 2024 +0530\n",
      "\n",
      "    Initial commit with data split version 1\n",
      "\n",
      "commit 19b11c400c88b2f3ee1e08ac425226c0303224d6\n",
      "Author: samriddhaadhikary2000 <samriddhaadhikary2000@gmail.com>\n",
      "Date:   Tue Feb 20 19:04:09 2024 +0530\n",
      "\n",
      "    Initial commit with data split version 1\n",
      "\n",
      "commit 1cc5a7454bb553fa06684869e9df97ddbc0585e8\n",
      "Author: Samriddha Adhikary <112683868+Sam-adhi2000@users.noreply.github.com>\n",
      "Date:   Tue Feb 20 18:48:05 2024 +0530\n",
      "\n",
      "    Initial commit with data split version 1\n",
      "\n",
      "commit e014c471ecbd5b36fd33692cf10267c20610bada\n",
      "Author: Samriddha Adhikary <112683868+Sam-adhi2000@users.noreply.github.com>\n",
      "Date:   Tue Feb 20 18:45:41 2024 +0530\n",
      "\n",
      "    stop tracking train.csv\n",
      "\n",
      "commit 414600a7bdc2536f82f1a1ef74fe64f6dc0f9355\n",
      "Author: Samriddha Adhikary <112683868+Sam-adhi2000@users.noreply.github.com>\n",
      "Date:   Tue Feb 20 18:36:54 2024 +0530\n",
      "\n",
      "    Initial commit\n",
      "\n",
      "commit 54aa6cd84400191a391f2d168e711af3ea838a74\n",
      "Author: Samriddha Adhikary <112683868+Sam-adhi2000@users.noreply.github.com>\n",
      "Date:   Tue Feb 20 18:27:54 2024 +0530\n",
      "\n",
      "    Initial commit\n",
      "\n",
      "commit f6336ffe5ec24f9980268fee6458204bbe705251\n",
      "Author: Samriddha Adhikary <112683868+Sam-adhi2000@users.noreply.github.com>\n",
      "Date:   Tue Feb 20 17:26:45 2024 +0530\n",
      "\n",
      "    Initial commit with data split version 1\n",
      "\n",
      "commit 0fd465948038a8c7b9ec0fbc62229e64e0a16e91\n",
      "Author: Samriddha Adhikary <112683868+Sam-adhi2000@users.noreply.github.com>\n",
      "Date:   Tue Feb 20 17:18:46 2024 +0530\n",
      "\n",
      "    Initial commit with data split version 1\n",
      "\n",
      "commit 0748b149bd466897b2ba4fa96e5b803ad0635cce\n",
      "Author: Samriddha Adhikary <112683868+Sam-adhi2000@users.noreply.github.com>\n",
      "Date:   Tue Feb 20 16:34:21 2024 +0530\n",
      "\n",
      "    Initial commit with data split version 1\n",
      "\n",
      "commit b65a0d8e54ace78a9457035ca3755f4941af66f9\n",
      "Author: Samriddha Adhikary <112683868+Sam-adhi2000@users.noreply.github.com>\n",
      "Date:   Tue Feb 20 16:25:30 2024 +0530\n",
      "\n",
      "    Initial commit with data split version 1\n",
      "\n",
      "commit c203f0cbbdf28469b14f98d5e7dd1b28919bf9a4\n",
      "Author: Samriddha Adhikary <112683868+Sam-adhi2000@users.noreply.github.com>\n",
      "Date:   Tue Feb 20 15:51:59 2024 +0530\n",
      "\n",
      "    Update data split with a different random seed\n",
      "\n",
      "commit 4a6cd04e09d15a838d669c70e9f9aa652dc785e0\n",
      "Author: Samriddha Adhikary <112683868+Sam-adhi2000@users.noreply.github.com>\n",
      "Date:   Tue Feb 20 15:43:46 2024 +0530\n",
      "\n",
      "    Initial commit with data split version 1\n",
      "\n",
      "commit 72c66e8f61e3f3a5152fabe02332e7e6ccee8281\n",
      "Author: Samriddha Adhikary <112683868+Sam-adhi2000@users.noreply.github.com>\n",
      "Date:   Tue Feb 20 15:16:53 2024 +0530\n",
      "\n",
      "    Initial commit\n",
      "\n",
      "commit 3b9417b6e86f951d7ca7457362bc5c3da80b05fe\n",
      "Author: Samriddha Adhikary <112683868+Sam-adhi2000@users.noreply.github.com>\n",
      "Date:   Mon Feb 5 14:21:36 2024 +0530\n",
      "\n",
      "    Required IPYNB files for Assignment 1\n"
     ]
    }
   ],
   "source": [
    "!git log"
   ]
  },
  {
   "cell_type": "code",
   "execution_count": 29,
   "metadata": {},
   "outputs": [
    {
     "name": "stderr",
     "output_type": "stream",
     "text": [
      "Updated 0 paths from 7c9b869\n"
     ]
    }
   ],
   "source": [
    "!git checkout 8a393b677b8b0829c6c0598368c3b006434e3883 train.csv.dvc validation.csv.dvc test.csv.dvc raw_data.csv.dvc"
   ]
  },
  {
   "cell_type": "code",
   "execution_count": 30,
   "metadata": {},
   "outputs": [],
   "source": [
    "!dvc checkout"
   ]
  },
  {
   "cell_type": "markdown",
   "metadata": {},
   "source": [
    "Printing distribution of initial data split"
   ]
  },
  {
   "cell_type": "code",
   "execution_count": 32,
   "metadata": {},
   "outputs": [
    {
     "name": "stdout",
     "output_type": "stream",
     "text": [
      "Distribution in train.csv: \n",
      "0    3504\n",
      "1    1078\n",
      "Name: spam, dtype: int64\n",
      "\n",
      "Distribution in validation.csv: \n",
      "0    425\n",
      "1    148\n",
      "Name: spam, dtype: int64\n",
      "\n",
      "Distribution in test.csv: \n",
      "0    431\n",
      "1    142\n",
      "Name: spam, dtype: int64\n",
      "\n"
     ]
    }
   ],
   "source": [
    "# Print the distribution of the original split\n",
    "for split in ['train', 'validation', 'test']:\n",
    "    df = pd.read_csv(f'{split}.csv')\n",
    "    distribution = df['spam'].value_counts()\n",
    "    print(f\"Distribution in {split}.csv: \\n{distribution}\\n\")"
   ]
  },
  {
   "cell_type": "code",
   "execution_count": 33,
   "metadata": {},
   "outputs": [
    {
     "name": "stderr",
     "output_type": "stream",
     "text": [
      "Updated 3 paths from 1c95a1d\n"
     ]
    }
   ],
   "source": [
    "!git checkout c53506e255f385f362fdb1ac934d85b23ee358fc train.csv.dvc validation.csv.dvc test.csv.dvc"
   ]
  },
  {
   "cell_type": "code",
   "execution_count": 34,
   "metadata": {},
   "outputs": [
    {
     "name": "stdout",
     "output_type": "stream",
     "text": [
      "M       validation.csv\n",
      "M       test.csv\n",
      "M       train.csv\n"
     ]
    }
   ],
   "source": [
    "!dvc checkout"
   ]
  },
  {
   "cell_type": "markdown",
   "metadata": {},
   "source": [
    "Printing distribution of updated data split"
   ]
  },
  {
   "cell_type": "code",
   "execution_count": 35,
   "metadata": {},
   "outputs": [
    {
     "name": "stdout",
     "output_type": "stream",
     "text": [
      "Distribution in train.csv: \n",
      "0    3491\n",
      "1    1091\n",
      "Name: spam, dtype: int64\n",
      "\n",
      "Distribution in validation.csv: \n",
      "0    443\n",
      "1    130\n",
      "Name: spam, dtype: int64\n",
      "\n",
      "Distribution in test.csv: \n",
      "0    426\n",
      "1    147\n",
      "Name: spam, dtype: int64\n",
      "\n"
     ]
    }
   ],
   "source": [
    "# Print the distribution of the original split\n",
    "for split in ['train', 'validation', 'test']:\n",
    "    df = pd.read_csv(f'{split}.csv')\n",
    "    distribution = df['spam'].value_counts()\n",
    "    print(f\"Distribution in {split}.csv: \\n{distribution}\\n\")"
   ]
  }
 ],
 "metadata": {
  "kernelspec": {
   "display_name": "Python 3",
   "language": "python",
   "name": "python3"
  },
  "language_info": {
   "codemirror_mode": {
    "name": "ipython",
    "version": 3
   },
   "file_extension": ".py",
   "mimetype": "text/x-python",
   "name": "python",
   "nbconvert_exporter": "python",
   "pygments_lexer": "ipython3",
   "version": "3.8.3"
  }
 },
 "nbformat": 4,
 "nbformat_minor": 2
}
