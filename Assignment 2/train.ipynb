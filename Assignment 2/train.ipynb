{
 "cells": [
  {
   "cell_type": "code",
   "execution_count": 1,
   "metadata": {},
   "outputs": [
    {
     "name": "stdout",
     "output_type": "stream",
     "text": [
      "Collecting mlflow\n",
      "  Downloading mlflow-2.10.2-py3-none-any.whl (19.5 MB)\n",
      "Requirement already satisfied: click<9,>=7.0 in c:\\users\\samriddha\\appdata\\local\\programs\\python\\python38\\lib\\site-packages (from mlflow) (8.1.7)\n",
      "Requirement already satisfied: Jinja2<4,>=3.0 in c:\\users\\samriddha\\appdata\\local\\programs\\python\\python38\\lib\\site-packages (from mlflow) (3.1.2)\n",
      "Collecting importlib-metadata!=4.7.0,<8,>=3.7.0\n",
      "  Downloading importlib_metadata-7.0.1-py3-none-any.whl (23 kB)\n",
      "Requirement already satisfied: scipy<2 in c:\\users\\samriddha\\appdata\\local\\programs\\python\\python38\\lib\\site-packages (from mlflow) (1.10.0)\n",
      "Collecting alembic!=1.10.0,<2\n",
      "  Downloading alembic-1.13.1-py3-none-any.whl (233 kB)\n",
      "Requirement already satisfied: protobuf<5,>=3.12.0 in c:\\users\\samriddha\\appdata\\local\\programs\\python\\python38\\lib\\site-packages (from mlflow) (4.25.3)\n",
      "Requirement already satisfied: pyyaml<7,>=5.1 in c:\\users\\samriddha\\appdata\\local\\programs\\python\\python38\\lib\\site-packages (from mlflow) (6.0.1)\n",
      "Collecting sqlparse<1,>=0.4.0\n",
      "  Downloading sqlparse-0.4.4-py3-none-any.whl (41 kB)\n",
      "Collecting querystring-parser<2\n",
      "  Downloading querystring_parser-1.2.4-py2.py3-none-any.whl (7.9 kB)\n",
      "Requirement already satisfied: gitpython<4,>=2.1.0 in c:\\users\\samriddha\\appdata\\local\\programs\\python\\python38\\lib\\site-packages (from mlflow) (3.1.42)\n",
      "Collecting pyarrow<16,>=4.0.0\n",
      "  Downloading pyarrow-15.0.0-cp38-cp38-win_amd64.whl (24.9 MB)\n",
      "Requirement already satisfied: entrypoints<1 in c:\\users\\samriddha\\appdata\\local\\programs\\python\\python38\\lib\\site-packages (from mlflow) (0.4)\n",
      "Requirement already satisfied: packaging<24 in c:\\users\\samriddha\\appdata\\local\\programs\\python\\python38\\lib\\site-packages (from mlflow) (21.3)\n",
      "Collecting sqlalchemy<3,>=1.4.0\n",
      "  Downloading SQLAlchemy-2.0.27-cp38-cp38-win_amd64.whl (2.1 MB)\n",
      "Collecting cloudpickle<4\n",
      "  Downloading cloudpickle-3.0.0-py3-none-any.whl (20 kB)\n",
      "Requirement already satisfied: numpy<2 in c:\\users\\samriddha\\appdata\\local\\programs\\python\\python38\\lib\\site-packages (from mlflow) (1.21.0)\n",
      "Collecting docker<8,>=4.0.0\n",
      "  Downloading docker-7.0.0-py3-none-any.whl (147 kB)\n",
      "Requirement already satisfied: matplotlib<4 in c:\\users\\samriddha\\appdata\\local\\programs\\python\\python38\\lib\\site-packages (from mlflow) (3.7.1)\n",
      "Requirement already satisfied: pandas<3 in c:\\users\\samriddha\\appdata\\local\\programs\\python\\python38\\lib\\site-packages (from mlflow) (1.5.1)\n",
      "Requirement already satisfied: requests<3,>=2.17.3 in c:\\users\\samriddha\\appdata\\local\\programs\\python\\python38\\lib\\site-packages (from mlflow) (2.31.0)\n",
      "Collecting markdown<4,>=3.3\n",
      "  Downloading Markdown-3.5.2-py3-none-any.whl (103 kB)\n",
      "Requirement already satisfied: scikit-learn<2 in c:\\users\\samriddha\\appdata\\local\\programs\\python\\python38\\lib\\site-packages (from mlflow) (1.2.2)\n",
      "Requirement already satisfied: pytz<2024 in c:\\users\\samriddha\\appdata\\local\\programs\\python\\python38\\lib\\site-packages (from mlflow) (2022.5)\n",
      "Collecting Flask<4\n",
      "  Downloading flask-3.0.2-py3-none-any.whl (101 kB)\n",
      "Collecting waitress<3\n",
      "  Downloading waitress-2.1.2-py3-none-any.whl (57 kB)\n",
      "Requirement already satisfied: typing-extensions>=4 in c:\\users\\samriddha\\appdata\\local\\programs\\python\\python38\\lib\\site-packages (from alembic!=1.10.0,<2->mlflow) (4.7.1)\n",
      "Collecting Mako\n",
      "  Downloading Mako-1.3.2-py3-none-any.whl (78 kB)\n",
      "Requirement already satisfied: importlib-resources in c:\\users\\samriddha\\appdata\\local\\programs\\python\\python38\\lib\\site-packages (from alembic!=1.10.0,<2->mlflow) (5.12.0)\n",
      "Requirement already satisfied: colorama in c:\\users\\samriddha\\appdata\\local\\programs\\python\\python38\\lib\\site-packages (from click<9,>=7.0->mlflow) (0.4.6)\n",
      "Requirement already satisfied: pywin32>=304 in c:\\users\\samriddha\\appdata\\local\\programs\\python\\python38\\lib\\site-packages (from docker<8,>=4.0.0->mlflow) (304)\n",
      "Requirement already satisfied: urllib3>=1.26.0 in c:\\users\\samriddha\\appdata\\local\\programs\\python\\python38\\lib\\site-packages (from docker<8,>=4.0.0->mlflow) (2.0.4)\n",
      "Collecting itsdangerous>=2.1.2\n",
      "  Downloading itsdangerous-2.1.2-py3-none-any.whl (15 kB)\n",
      "Collecting Werkzeug>=3.0.0\n",
      "  Downloading werkzeug-3.0.1-py3-none-any.whl (226 kB)\n",
      "Collecting blinker>=1.6.2\n",
      "  Downloading blinker-1.7.0-py3-none-any.whl (13 kB)\n",
      "Requirement already satisfied: gitdb<5,>=4.0.1 in c:\\users\\samriddha\\appdata\\local\\programs\\python\\python38\\lib\\site-packages (from gitpython<4,>=2.1.0->mlflow) (4.0.11)\n",
      "Requirement already satisfied: smmap<6,>=3.0.1 in c:\\users\\samriddha\\appdata\\local\\programs\\python\\python38\\lib\\site-packages (from gitdb<5,>=4.0.1->gitpython<4,>=2.1.0->mlflow) (5.0.1)\n",
      "Requirement already satisfied: zipp>=0.5 in c:\\users\\samriddha\\appdata\\local\\programs\\python\\python38\\lib\\site-packages (from importlib-metadata!=4.7.0,<8,>=3.7.0->mlflow) (3.15.0)\n",
      "Requirement already satisfied: MarkupSafe>=2.0 in c:\\users\\samriddha\\appdata\\local\\programs\\python\\python38\\lib\\site-packages (from Jinja2<4,>=3.0->mlflow) (2.1.3)\n",
      "Requirement already satisfied: kiwisolver>=1.0.1 in c:\\users\\samriddha\\appdata\\local\\programs\\python\\python38\\lib\\site-packages (from matplotlib<4->mlflow) (1.4.4)\n",
      "Requirement already satisfied: cycler>=0.10 in c:\\users\\samriddha\\appdata\\local\\programs\\python\\python38\\lib\\site-packages (from matplotlib<4->mlflow) (0.11.0)\n",
      "Requirement already satisfied: python-dateutil>=2.7 in c:\\users\\samriddha\\appdata\\local\\programs\\python\\python38\\lib\\site-packages (from matplotlib<4->mlflow) (2.8.2)\n",
      "Requirement already satisfied: pillow>=6.2.0 in c:\\users\\samriddha\\appdata\\local\\programs\\python\\python38\\lib\\site-packages (from matplotlib<4->mlflow) (9.4.0)\n",
      "Requirement already satisfied: fonttools>=4.22.0 in c:\\users\\samriddha\\appdata\\local\\programs\\python\\python38\\lib\\site-packages (from matplotlib<4->mlflow) (4.39.0)\n",
      "Requirement already satisfied: contourpy>=1.0.1 in c:\\users\\samriddha\\appdata\\local\\programs\\python\\python38\\lib\\site-packages (from matplotlib<4->mlflow) (1.0.7)\n",
      "Requirement already satisfied: pyparsing>=2.3.1 in c:\\users\\samriddha\\appdata\\local\\programs\\python\\python38\\lib\\site-packages (from matplotlib<4->mlflow) (3.0.9)\n",
      "Requirement already satisfied: six>=1.5 in c:\\users\\samriddha\\appdata\\local\\programs\\python\\python38\\lib\\site-packages (from python-dateutil>=2.7->matplotlib<4->mlflow) (1.16.0)\n",
      "Requirement already satisfied: idna<4,>=2.5 in c:\\users\\samriddha\\appdata\\local\\programs\\python\\python38\\lib\\site-packages (from requests<3,>=2.17.3->mlflow) (3.4)\n",
      "Requirement already satisfied: certifi>=2017.4.17 in c:\\users\\samriddha\\appdata\\local\\programs\\python\\python38\\lib\\site-packages (from requests<3,>=2.17.3->mlflow) (2023.7.22)\n",
      "Requirement already satisfied: charset-normalizer<4,>=2 in c:\\users\\samriddha\\appdata\\local\\programs\\python\\python38\\lib\\site-packages (from requests<3,>=2.17.3->mlflow) (3.2.0)\n",
      "Requirement already satisfied: threadpoolctl>=2.0.0 in c:\\users\\samriddha\\appdata\\local\\programs\\python\\python38\\lib\\site-packages (from scikit-learn<2->mlflow) (3.1.0)\n",
      "Requirement already satisfied: joblib>=1.1.1 in c:\\users\\samriddha\\appdata\\local\\programs\\python\\python38\\lib\\site-packages (from scikit-learn<2->mlflow) (1.2.0)\n",
      "Collecting greenlet!=0.4.17\n",
      "  Downloading greenlet-3.0.3-cp38-cp38-win_amd64.whl (290 kB)\n",
      "Installing collected packages: greenlet, Werkzeug, sqlalchemy, Mako, itsdangerous, importlib-metadata, blinker, waitress, sqlparse, querystring-parser, pyarrow, markdown, Flask, docker, cloudpickle, alembic, mlflow\n",
      "Successfully installed Flask-3.0.2 Mako-1.3.2 Werkzeug-3.0.1 alembic-1.13.1 blinker-1.7.0 cloudpickle-3.0.0 docker-7.0.0 greenlet-3.0.3 importlib-metadata-7.0.1 itsdangerous-2.1.2 markdown-3.5.2 mlflow-2.10.2 pyarrow-15.0.0 querystring-parser-1.2.4 sqlalchemy-2.0.27 sqlparse-0.4.4 waitress-2.1.2\n",
      "Note: you may need to restart the kernel to use updated packages.\n"
     ]
    },
    {
     "name": "stderr",
     "output_type": "stream",
     "text": [
      "WARNING: You are using pip version 21.1.3; however, version 24.0 is available.\n",
      "You should consider upgrading via the 'c:\\Users\\Samriddha\\AppData\\Local\\Programs\\Python\\Python38\\python.exe -m pip install --upgrade pip' command.\n"
     ]
    }
   ],
   "source": [
    "%pip install mlflow"
   ]
  },
  {
   "cell_type": "code",
   "execution_count": 12,
   "metadata": {},
   "outputs": [],
   "source": [
    "import pandas as pd\n",
    "import numpy as np\n",
    "from sklearn.model_selection import train_test_split\n",
    "from sklearn.feature_extraction.text import TfidfVectorizer\n",
    "from sklearn.linear_model import LogisticRegression\n",
    "from sklearn.ensemble import RandomForestClassifier\n",
    "from sklearn.svm import SVC\n",
    "from sklearn.model_selection import GridSearchCV\n",
    "from sklearn.pipeline import Pipeline\n",
    "from sklearn.metrics import accuracy_score, classification_report, average_precision_score\n",
    "import mlflow\n",
    "import mlflow.sklearn\n",
    "from mlflow.tracking import MlflowClient"
   ]
  },
  {
   "cell_type": "code",
   "execution_count": 8,
   "metadata": {},
   "outputs": [],
   "source": [
    "# Define a function to load and split the data\n",
    "def load_split_data(train, validation, test):\n",
    "    # Load datasets\n",
    "    train_data = pd.read_csv(train)\n",
    "    validation_data = pd.read_csv(validation)\n",
    "    test_data = pd.read_csv(test)\n",
    "    \n",
    "    # Split features and target\n",
    "    X_train = train_data['text']\n",
    "    y_train = train_data['spam']\n",
    "    X_val = validation_data['text']\n",
    "    y_val = validation_data['spam']\n",
    "    X_test = test_data['text']\n",
    "    y_test = test_data['spam']\n",
    "    \n",
    "    return X_train, y_train, X_val, y_val, X_test, y_test"
   ]
  },
  {
   "cell_type": "code",
   "execution_count": 5,
   "metadata": {},
   "outputs": [],
   "source": [
    "# Load your data (update paths according to your dataset location)\n",
    "train = r'C:\\Users\\Samriddha\\OneDrive\\Desktop\\msc@cmi\\cmi sem 4\\Applied ML\\AppliedML\\Assignment 2\\train.csv'\n",
    "validation = r'C:\\Users\\Samriddha\\OneDrive\\Desktop\\msc@cmi\\cmi sem 4\\Applied ML\\AppliedML\\Assignment 2\\validation.csv'\n",
    "test= r'C:\\Users\\Samriddha\\OneDrive\\Desktop\\msc@cmi\\cmi sem 4\\Applied ML\\AppliedML\\Assignment 2\\test.csv'"
   ]
  },
  {
   "cell_type": "code",
   "execution_count": 9,
   "metadata": {},
   "outputs": [],
   "source": [
    "X_train, y_train, X_val, y_val, X_test, y_test = load_split_data(train, validation, test)"
   ]
  },
  {
   "cell_type": "code",
   "execution_count": 17,
   "metadata": {},
   "outputs": [],
   "source": [
    "def train_and_log_model(model_name, X_train, y_train, X_val, y_val, params={},tags={}):\n",
    "    with mlflow.start_run(run_name=model_name):\n",
    "        # Define the model pipeline\n",
    "        if model_name == 'random_forest':\n",
    "            model = Pipeline([\n",
    "        ('tfidf', TfidfVectorizer()),  # Text processing using TF-IDF\n",
    "        ('classifier', RandomForestClassifier(random_state=42))  # Random Forest Classifier\n",
    "    ])\n",
    "        elif model_name == 'logistic_regression':\n",
    "            model = Pipeline([\n",
    "                ('tfidf', TfidfVectorizer()),\n",
    "                ('clf', LogisticRegression(random_state=42, **params))\n",
    "            ])\n",
    "        \n",
    "        elif model_name == 'SVM':\n",
    "            model = Pipeline([\n",
    "        ('tfidf', TfidfVectorizer()),  # Text processing using TF-IDF\n",
    "        ('classifier', SVC(probability=True,random_state=42))  # Support Vector Machine (SVM) Classifier\n",
    "    ])\n",
    "        else:\n",
    "            raise ValueError(\"Model name not recognized.\")\n",
    "\n",
    "        # Train the model\n",
    "        model.fit(X_train, y_train)\n",
    "        # Evaluate the model\n",
    "        y_pred_val = model.predict(X_val)\n",
    "        accuracy = accuracy_score(y_val, y_pred_val)\n",
    "        aucpr = average_precision_score(y_val, model.predict_proba(X_val)[:, 1])\n",
    "        # Log parameters, metrics, and model\n",
    "        mlflow.log_params(params)\n",
    "        mlflow.log_metric(\"accuracy\", accuracy)\n",
    "        mlflow.log_metric(\"aucpr\", aucpr)\n",
    "        mlflow.sklearn.log_model(model, f\"model_{model_name}\")\n",
    "        # After training and logging metrics, register the model\n",
    "        mlflow.sklearn.log_model(model, f\"model_{model_name}\")\n",
    "\n",
    "        # Get the run ID\n",
    "        run_id = mlflow.active_run().info.run_id\n",
    "\n",
    "        # Create or get the model name in the MLflow Model Registry\n",
    "        client = MlflowClient()\n",
    "        try:\n",
    "            client.create_registered_model(model_name)\n",
    "        except Exception as e:\n",
    "            print(f\"Model {model_name} already exists in the registry.\")\n",
    "\n",
    "        # Create a new version of the model in the registry\n",
    "        model_uri = f\"runs:/{run_id}/model_{model_name}\"\n",
    "        model_version_info = client.create_model_version(model_name, model_uri, run_id)\n",
    "\n",
    "        # Add tags to the model version\n",
    "        tags['Created by'] = 'samriddha'  # Replace with your identifier\n",
    "        for tag_key, tag_value in tags.items():\n",
    "            client.set_model_version_tag(\n",
    "                model_name,\n",
    "                model_version_info.version,\n",
    "                tag_key,\n",
    "                tag_value\n",
    "            )\n",
    "\n",
    "        print(f\"Model {model_name}, version {model_version_info.version} registered in the MLflow Model Registry with tags {tags}.\")\n",
    "        print(f\"Model: {model_name}, Accuracy: {accuracy}, AUCPR: {aucpr}\")"
   ]
  },
  {
   "cell_type": "code",
   "execution_count": 14,
   "metadata": {},
   "outputs": [
    {
     "name": "stderr",
     "output_type": "stream",
     "text": [
      "2024/02/20 20:27:14 INFO mlflow.tracking.fluent: Experiment with name 'Email Spam Classification' does not exist. Creating a new experiment.\n"
     ]
    },
    {
     "data": {
      "text/plain": [
       "<Experiment: artifact_location='file:///c:/Users/Samriddha/OneDrive/Desktop/msc%40cmi/cmi%20sem%204/Applied%20ML/AppliedML/mlruns/211608969076237354', creation_time=1708441034519, experiment_id='211608969076237354', last_update_time=1708441034519, lifecycle_stage='active', name='Email Spam Classification', tags={}>"
      ]
     },
     "execution_count": 14,
     "metadata": {},
     "output_type": "execute_result"
    }
   ],
   "source": [
    "# Start MLflow experiment\n",
    "mlflow.set_experiment(\"Email Spam Classification\")"
   ]
  },
  {
   "cell_type": "code",
   "execution_count": 20,
   "metadata": {},
   "outputs": [
    {
     "name": "stdout",
     "output_type": "stream",
     "text": [
      "Model random_forest already exists in the registry.\n",
      "Model random_forest, version 3 registered in the MLflow Model Registry with tags {'Created by': 'samriddha'}.\n",
      "Model: random_forest, Accuracy: 0.9616055846422339, AUCPR: 0.9964756289961485\n",
      "Model logistic_regression already exists in the registry.\n",
      "Model logistic_regression, version 4 registered in the MLflow Model Registry with tags {'Created by': 'samriddha'}.\n",
      "Model: logistic_regression, Accuracy: 0.9773123909249564, AUCPR: 0.9987395088020187\n",
      "Model SVM already exists in the registry.\n",
      "Model SVM, version 2 registered in the MLflow Model Registry with tags {'Created by': 'samriddha'}.\n",
      "Model: SVM, Accuracy: 0.9895287958115183, AUCPR: 0.9998834498834499\n"
     ]
    }
   ],
   "source": [
    "# Train and log models\n",
    "model_names = ['random_forest', 'logistic_regression', 'SVM']\n",
    "for model_name in model_names:\n",
    "    train_and_log_model(model_name, X_train, y_train, X_val, y_val)"
   ]
  },
  {
   "cell_type": "markdown",
   "metadata": {},
   "source": [
    "The SVM model has the highest accuracy and AUCPR score"
   ]
  },
  {
   "cell_type": "markdown",
   "metadata": {},
   "source": [
    "On executing the following command, followed by navigating to http://localhost:5000 in the browser, the details of each run can be reviewed "
   ]
  },
  {
   "cell_type": "code",
   "execution_count": 22,
   "metadata": {},
   "outputs": [
    {
     "name": "stdout",
     "output_type": "stream",
     "text": [
      "^C\n"
     ]
    }
   ],
   "source": [
    "!mlflow ui"
   ]
  }
 ],
 "metadata": {
  "kernelspec": {
   "display_name": "Python 3",
   "language": "python",
   "name": "python3"
  },
  "language_info": {
   "codemirror_mode": {
    "name": "ipython",
    "version": 3
   },
   "file_extension": ".py",
   "mimetype": "text/x-python",
   "name": "python",
   "nbconvert_exporter": "python",
   "pygments_lexer": "ipython3",
   "version": "3.8.3"
  }
 },
 "nbformat": 4,
 "nbformat_minor": 2
}
